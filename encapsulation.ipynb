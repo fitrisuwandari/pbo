{
 "cells": [
  {
   "cell_type": "code",
   "execution_count": null,
   "metadata": {},
   "outputs": [],
   "source": [
    "encapsulation dalam pemograman berarti pembukusan antara data dan method \n",
    "agar bagiannya terlindungi dan tidak dapat diakses langsung dari luar\n",
    "ada beberapa type dari encapsulation ini seperti public methods yang methodnya bisa diakses dari mana saja\n",
    "private method dia hanya bisa diakses di kelas mereka sendiri dimulai dengan double underline\n",
    "public variable itu dapat diakses dimana saja\n",
    "dan juga ada private variable dimana dia hanya bisa diakses di kelasnya sendiri dengan method yang sudah terdefinisi\n",
    "dimuali dengan double underline"
   ]
  },
  {
   "cell_type": "code",
   "execution_count": 1,
   "metadata": {},
   "outputs": [
    {
     "name": "stdout",
     "output_type": "stream",
     "text": [
      "banyak sisi: 4\n",
      "JUMLAH PERSEGI ADALAH:  4\n",
      "bentuk:   Persegi\n",
      "Sisi:  5\n"
     ]
    },
    {
     "data": {
      "text/plain": [
       "'5'"
      ]
     },
     "execution_count": 1,
     "metadata": {},
     "output_type": "execute_result"
    }
   ],
   "source": [
    "\n",
    "class persegi:\n",
    "    __sisi = 0\n",
    "    __bentuk = \"Persegi\"\n",
    "\n",
    "    def __init__ (self):\n",
    "        self.__sisi = 4\n",
    "        self.__bentuk = \"Persegi\"\n",
    "        \n",
    "    def display(self):\n",
    "        print(\"JUMLAH PERSEGI ADALAH: \", self.__sisi)\n",
    "        print(\"bentuk:  \", self.__bentuk)\n",
    "\n",
    "    def ruang(self):\n",
    "        print(\"banyak sisi: \" + str(self.__sisi))\n",
    "\n",
    "    def setSisi(self,sisi):\n",
    "        self.__setSisi = sisi\n",
    "\n",
    "a = persegi()\n",
    "a.ruang()\n",
    "a.setSisi(5)\n",
    "a.display()\n",
    "\n",
    "\n",
    "\n",
    "class persegi:\n",
    "    def __init__ (self):\n",
    "        self.__updateSisi = \"5\"\n",
    "    def ruang (self):\n",
    "        print(\"Sisi: \", self.__updateSisi)\n",
    "    def __updateSisi(self):\n",
    "        print(\"sisi Baru: \" + str(self.__sisi ))\n",
    "a = persegi()\n",
    "a.ruang()\n",
    "a._persegi__updateSisi\n"
   ]
  },
  {
   "cell_type": "code",
   "execution_count": null,
   "metadata": {},
   "outputs": [],
   "source": []
  }
 ],
 "metadata": {
  "kernelspec": {
   "display_name": "Python 3",
   "language": "python",
   "name": "python3"
  },
  "language_info": {
   "codemirror_mode": {
    "name": "ipython",
    "version": 3
   },
   "file_extension": ".py",
   "mimetype": "text/x-python",
   "name": "python",
   "nbconvert_exporter": "python",
   "pygments_lexer": "ipython3",
   "version": "3.6.5"
  }
 },
 "nbformat": 4,
 "nbformat_minor": 2
}
