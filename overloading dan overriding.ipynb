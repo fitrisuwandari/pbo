{
 "cells": [
  {
   "cell_type": "code",
   "execution_count": null,
   "metadata": {},
   "outputs": [],
   "source": [
    "Method overloading adalah penugasan lebih dari satu fungsi dan operasi yang di gunakan bermacam-macam \n",
    "tergantung dari objek dan argumen yang ada disaan\n",
    "method disini hanya satu tapi manggilnya itu tergantung dari parameter yang dipakai dan juga ada \n",
    "percabangan disiniuntuk method yang diinputkan dalam parameternya \n",
    "\n",
    "method overriding\n",
    "berisi method banyak akan tetapi isi dari methodnya berbeda\n",
    "overidding kelas anak yang dapat diwariskan adalah method dan property\n",
    "\n",
    "\n",
    "operator overloading\n",
    "operator yang punya bentuk untuk menambhkan atau menggabungkan \n",
    "beberapa pebuatan fungsi untuk sebuah operatorsemisalnya operator + tidak hanay digunakan pada operasi type data integer\n",
    "tapi juga bisa digunakan untuk type data string \n",
    "\n",
    "overiding dan overloading \n",
    "namanya sama\n",
    "overloading \n",
    "operator untuk mengatur fungsi pada operator lain\n",
    "penggunaan fungsi untuk suatu operator misal operator + bisa digunakan untuk fungsi yang lain\n",
    "\n",
    "magic method \n",
    "#ada spesial method"
   ]
  },
  {
   "cell_type": "code",
   "execution_count": 8,
   "metadata": {},
   "outputs": [
    {
     "name": "stdout",
     "output_type": "stream",
     "text": [
      "6/8\n"
     ]
    }
   ],
   "source": [
    "#operator overloading\n",
    "\n",
    "class Fraction:\n",
    "\n",
    "    def __init__(self,top,bottom):\n",
    "\n",
    "        self.num = top\n",
    "        self.den = bottom\n",
    "    #def show(self):\n",
    "    #    print(self.num,\"/\",self.den)\n",
    "    def __str__(self):\n",
    "        return str(self.num)+\"/\"+str(self.den)\n",
    "\n",
    "    def __add__(self,otherfraction):\n",
    "\n",
    "        newnum = self.num*otherfraction.den + self.den*otherfraction.num\n",
    "        newden = self.den * otherfraction.den\n",
    "        return Fraction(newnum,newden)\n",
    "f1=Fraction(1,4)\n",
    "f2=Fraction(1,2)\n",
    "print(f1+f2)\n",
    "\n"
   ]
  },
  {
   "cell_type": "code",
   "execution_count": null,
   "metadata": {},
   "outputs": [],
   "source": []
  },
  {
   "cell_type": "code",
   "execution_count": null,
   "metadata": {},
   "outputs": [],
   "source": []
  }
 ],
 "metadata": {
  "kernelspec": {
   "display_name": "Python 3",
   "language": "python",
   "name": "python3"
  },
  "language_info": {
   "codemirror_mode": {
    "name": "ipython",
    "version": 3
   },
   "file_extension": ".py",
   "mimetype": "text/x-python",
   "name": "python",
   "nbconvert_exporter": "python",
   "pygments_lexer": "ipython3",
   "version": "3.6.5"
  }
 },
 "nbformat": 4,
 "nbformat_minor": 2
}
